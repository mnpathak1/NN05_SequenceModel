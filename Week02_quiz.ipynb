{
 "cells": [
  {
   "cell_type": "markdown",
   "metadata": {},
   "source": [
    "# 1\n",
    "\n",
    "Suppose you learn a word embedding for a vocabulary of 10000 words. Then the embedding vectors should be 10000 dimensional, so as to capture the full range of variation and meaning in those words.\n",
    "\n",
    "\n",
    "True\n",
    "\n",
    "\n",
    "False CORRECT"
   ]
  },
  {
   "cell_type": "markdown",
   "metadata": {},
   "source": [
    "# 2\n",
    "\n",
    "What is t-SNE?\n",
    "\n",
    "\n",
    "A linear transformation that allows us to solve analogies on word vectors\n",
    "\n",
    "A non-linear dimensionality reduction technique CORRECT \n",
    "\n",
    "A supervised learning algorithm for learning word embeddings\n",
    "\n",
    "An open-source sequence modeling library"
   ]
  },
  {
   "cell_type": "markdown",
   "metadata": {},
   "source": [
    "# 3\n",
    "\n",
    "Suppose you download a pre-trained word embedding which has been trained on a huge corpus of text. You then use this word embedding to train an RNN for a language task of recognizing if someone is happy from a short snippet of text, using a small training set.\n",
    "\n",
    "x (input text)\ty (happy?)  \n",
    "I'm feeling wonderful today!\t1  \n",
    "I'm bummed my cat is ill.\t0  \n",
    "Really enjoying this!\t1  \n",
    "Then even if the word “ecstatic” does not appear in your small training set, your RNN might reasonably be expected to recognize “I’m ecstatic” as deserving a label y=1\n",
    "\n",
    "TRUE"
   ]
  },
  {
   "cell_type": "markdown",
   "metadata": {},
   "source": [
    "# 4\n",
    "\n",
    "Which of these equations do you think should hold for a good word embedding? (Check all that apply)\n",
    "\n",
    "\n",
    "eboy−egirl≈ebrother−esister\n",
    "Correct \n",
    "\n",
    "eboy−egirl≈esister−ebrother\n",
    "Un-selected is correct \n",
    "\n",
    "eboy−ebrother≈egirl−esister\n",
    "Correct \n",
    "\n",
    "eboy−ebrother≈esister−egirl\n",
    "Un-selected is correct "
   ]
  },
  {
   "cell_type": "markdown",
   "metadata": {},
   "source": [
    "# 5\n",
    "\n",
    "Let E\n",
    "be an embedding matrix, and let e1234\n",
    "be a one-hot vector corresponding to word 1234. Then to get the embedding of word 1234, why don’t we call E∗e1234\n",
    "in Python?\n",
    "\n",
    "\n",
    "It is computationally wasteful. Correct  \n",
    "\n",
    "The correct formula is ET∗e1234\n",
    ".\n",
    "\n",
    "\n",
    "This doesn’t handle unknown words (<UNK>).\n",
    "\n",
    "\n",
    "None of the above: Calling the Python snippet as described above is fine."
   ]
  },
  {
   "cell_type": "markdown",
   "metadata": {},
   "source": [
    "# 6\n",
    "\n",
    "When learning word embeddings, we create an artificial task of estimating P(target∣context)\n",
    ". It is okay if we do poorly on this artificial prediction task; the more important by-product of this task is that we learn a useful set of word embeddings.\n",
    "\n",
    "\n",
    "True"
   ]
  },
  {
   "cell_type": "markdown",
   "metadata": {},
   "source": [
    "# 7\n",
    "\n",
    "In the word2vec algorithm, you estimate P(t∣c)\n",
    ", where t\n",
    "is the target word and c\n",
    "is a context word. How are t\n",
    "and c\n",
    "chosen from the training set? Pick the best answer.\n",
    "\n",
    "\n",
    "c\n",
    "and t\n",
    "are chosen to be nearby words. CORRECT\n",
    "\n",
    "\n",
    "c\n",
    "is a sequence of several words immediately before t\n",
    ".\n",
    "\n",
    "\n",
    "c\n",
    "is the one word that comes immediately before t\n",
    ".\n",
    " \n",
    "\n",
    "c\n",
    "is the sequence of all the words in the sentence before t"
   ]
  },
  {
   "cell_type": "markdown",
   "metadata": {},
   "source": [
    "# 8\n",
    "\n",
    "Suppose you have a 10000 word vocabulary, and are learning 500-dimensional word embeddings. The word2vec model uses the following softmax function:\n",
    "\n",
    "P(t∣c)=\n",
    "eθ\n",
    "T\n",
    "t\n",
    "ec\n",
    "∑\n",
    "10000\n",
    "t′=1\n",
    "eθ\n",
    "T\n",
    "t′\n",
    "ec\n",
    " \n",
    "Which of these statements are correct? Check all that apply.\n",
    "\n",
    "\n",
    "θt\n",
    "and ec\n",
    "are both 500 dimensional vectors. CORRECT  \n",
    "\n",
    " \n",
    "\n",
    "θt\n",
    "and ec\n",
    "are both 10000 dimensional vectors.\n",
    "\n",
    "\n",
    "\n",
    "θt\n",
    "and ec\n",
    "are both trained with an optimization algorithm such as Adam or gradient descent. CORRECT\n",
    "\n",
    "This should be selected "
   ]
  },
  {
   "cell_type": "markdown",
   "metadata": {},
   "source": [
    "# 9\n",
    "\n",
    "Suppose you have a 10000 word vocabulary, and are learning 500-dimensional word embeddings.The GloVe model minimizes this objective:\n",
    "\n",
    "min∑\n",
    "10,000\n",
    "i=1\n",
    "∑\n",
    "10,000\n",
    "j=1\n",
    "f(Xij)(θ\n",
    "T\n",
    "i\n",
    "ej+bi+b\n",
    "′\n",
    "j\n",
    "−logXij)2\n",
    "Which of these statements are correct? Check all that apply.\n",
    "\n",
    "\n",
    "θi\n",
    "and ej\n",
    "should be initialized to 0 at the beginning of training.\n",
    "\n",
    "Un-selected is correct \n",
    "\n",
    "θi\n",
    "and ej\n",
    "should be initialized randomly at the beginning of training.\n",
    "\n",
    "Correct \n",
    "\n",
    "Xij\n",
    "is the number of times word i appears in the context of word j.\n",
    "\n",
    "Correct \n",
    "\n",
    "The weighting function f(.)\n",
    "must satisfy f(0)=0\n",
    ".\n",
    "\n",
    "Correct   \n",
    "The weighting function helps prevent learning only from extremely common word pairs. It is not necessary that it satisfies this function."
   ]
  },
  {
   "cell_type": "markdown",
   "metadata": {},
   "source": [
    "# 10\n",
    "\n",
    "You have trained word embeddings using a text dataset of m1\n",
    "words. You are considering using these word embeddings for a language task, for which you have a separate labeled dataset of m2\n",
    "words. Keeping in mind that using word embeddings is a form of transfer learning, under which of these circumstance would you expect the word embeddings to be helpful?\n",
    "\n",
    "\n",
    "m1 >> m2"
   ]
  },
  {
   "cell_type": "code",
   "execution_count": null,
   "metadata": {
    "collapsed": true
   },
   "outputs": [],
   "source": []
  }
 ],
 "metadata": {
  "kernelspec": {
   "display_name": "Python 3",
   "language": "python",
   "name": "python3"
  },
  "language_info": {
   "codemirror_mode": {
    "name": "ipython",
    "version": 3
   },
   "file_extension": ".py",
   "mimetype": "text/x-python",
   "name": "python",
   "nbconvert_exporter": "python",
   "pygments_lexer": "ipython3",
   "version": "3.6.2"
  }
 },
 "nbformat": 4,
 "nbformat_minor": 0
}
