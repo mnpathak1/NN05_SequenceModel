{
 "cells": [
  {
   "cell_type": "code",
   "execution_count": 2,
   "metadata": {
    "collapsed": true,
    "deletable": true,
    "editable": true
   },
   "outputs": [],
   "source": [
    "#1\n",
    "\n",
    "# Suppose your training examples are sentences (sequences of words). Which of the following refers to the jth\n",
    "# word in the ith\n",
    "# training example?\n",
    "\n",
    "# x(i)<j>\n",
    "# Correct \n",
    "# We index into the ith\n",
    "# row first to get the ith\n",
    "# training example (represented by parentheses), then the jth\n",
    "# column to get the jth\n",
    "# word (represented by the brackets).\n",
    "\n",
    "# x<i>(j)\n",
    "\n",
    "# x(j)<i>\n",
    "\n",
    "# x<j>(i)\n"
   ]
  },
  {
   "cell_type": "markdown",
   "metadata": {
    "deletable": true,
    "editable": true
   },
   "source": [
    "# 2\n",
    "\n",
    "Consider this RNN:\n",
    "\n",
    "\n",
    "This specific type of architecture is appropriate when:\n",
    "\n",
    "Tx=Ty\n",
    "Correct \n",
    "It is appropriate when every input should be matched to an output."
   ]
  },
  {
   "cell_type": "markdown",
   "metadata": {
    "deletable": true,
    "editable": true
   },
   "source": [
    "# 3\n",
    "\n",
    "To which of these tasks would you apply a many-to-one RNN architecture? (Check all that apply).\n",
    "\n",
    "\n",
    "\n",
    "Speech recognition (input an audio clip and output a transcript)\n",
    "Un-selected is correct \n",
    "\n",
    "Sentiment classification (input a piece of text and output a 0/1 to denote positive or negative sentiment)\n",
    "Correct \n",
    "\n",
    "Image classification (input an image and output a label)\n",
    "Un-selected is correct \n",
    "\n",
    "Gender recognition from speech (input an audio clip and output a label indicating the speaker’s gender)\n",
    "Correct "
   ]
  },
  {
   "cell_type": "code",
   "execution_count": 3,
   "metadata": {
    "collapsed": true,
    "deletable": true,
    "editable": true
   },
   "outputs": [],
   "source": [
    "# 4\n",
    "\n",
    "# You are training this RNN language model.\n",
    "\n",
    "\n",
    "# At the tth\n",
    "# time step, what is the RNN doing? Choose the best answer.\n",
    "\n",
    "# Estimating P(y<t>∣y<1>,y<2>,…,y<t−1>)"
   ]
  },
  {
   "cell_type": "code",
   "execution_count": 4,
   "metadata": {
    "collapsed": true,
    "deletable": true,
    "editable": true
   },
   "outputs": [],
   "source": [
    "# 5\n",
    "\n",
    "# You have finished training a language model RNN and are using it to sample random sentences, as follows:\n",
    "\n",
    "\n",
    "# What are you doing at each time step t?\n",
    "\n",
    "# (i) Use the probabilities output by the RNN to randomly sample a chosen word for that time-step as  ˆy <t>. \n",
    "# (ii) Then pass this selected word to the next time-step."
   ]
  },
  {
   "cell_type": "markdown",
   "metadata": {
    "deletable": true,
    "editable": true
   },
   "source": [
    "# 6\n",
    "\n",
    "You are training an RNN, and find that your weights and activations are all taking on the value of NaN (“Not a Number”). Which of these is the most likely cause of this problem?\n",
    "\n",
    "Exploding gradient problem."
   ]
  },
  {
   "cell_type": "markdown",
   "metadata": {
    "deletable": true,
    "editable": true
   },
   "source": [
    "# 7\n",
    "\n",
    "Suppose you are training a LSTM. You have a 10000 word vocabulary, and are using an LSTM with 100-dimensional activations a<t>\n",
    ". What is the dimension of Γu\n",
    "at each time step?\n",
    "\n",
    "1\n",
    "\n",
    "100 CORRECT\n",
    "\n",
    "300 \n",
    "\n",
    "10000"
   ]
  },
  {
   "cell_type": "markdown",
   "metadata": {
    "deletable": true,
    "editable": true
   },
   "source": [
    "# 8\n",
    "\n",
    "Here’re the update equations for the GRU.\n",
    "\n",
    "Alice proposes to simplify the GRU by always removing the Γu\n",
    ". I.e., setting Γu\n",
    "= 1. Betty proposes to simplify the GRU by removing the Γr\n",
    ". I. e., setting Γr\n",
    "= 1 always. Which of these models is more likely to work without vanishing gradient problems even when trained on very long input sequences?\n",
    "\n",
    "Alice’s model (removing Γu\n",
    "), because if Γr≈0\n",
    "for a timestep, the gradient can propagate back through that timestep without much decay.\n",
    "\n",
    "Alice’s model (removing Γu\n",
    "), because if Γr≈1\n",
    "for a timestep, the gradient can propagate back through that timestep without much decay.\n",
    "\n",
    "Betty’s model (removing Γr\n",
    "), because if Γu≈0\n",
    "for a timestep, the gradient can propagate back through that timestep without much decay.\n",
    "\n",
    "Betty’s model (removing Γr\n",
    "), because if Γu≈1\n",
    "for a timestep, the gradient can propagate back through that timestep without much decay."
   ]
  },
  {
   "cell_type": "markdown",
   "metadata": {
    "deletable": true,
    "editable": true
   },
   "source": [
    "# 9\n",
    "\n",
    "Here are the equations for the GRU and the LSTM:\n",
    "\n",
    "\n",
    "From these, we can see that the Update Gate and Forget Gate in the LSTM play a role similar to _______ and ______ in the GRU. What should go in the the blanks?\n",
    "\n",
    "Γu and 1−Γu CORRECT  \n",
    "\n",
    "Γu and Γr\n",
    "\n",
    "1−Γu and Γu \n",
    "\n",
    "Γr and Γu"
   ]
  },
  {
   "cell_type": "code",
   "execution_count": null,
   "metadata": {
    "collapsed": true,
    "deletable": true,
    "editable": true
   },
   "outputs": [],
   "source": [
    "# 10\n",
    "\n",
    "# You have a pet dog whose mood is heavily dependent on the current and past few days’ weather. You’ve collected data for the past 365 days on the weather, \n",
    "# which you represent as a sequence as x<1>,…,x<365>\n",
    "# You’ve also collected data on your dog’s mood, which you represent as y<1>,…,y<365>\n",
    "# You’d like to build a model to map from x→y\n",
    "# Should you use a Unidirectional RNN or Bidirectional RNN for this problem?\n",
    "\n",
    "# Bidirectional RNN, because this allows the prediction of mood on day t to take into account more information.\n",
    "\n",
    "# Bidirectional RNN, because this allows backpropagation to compute more accurate gradients.\n",
    "\n",
    "# Unidirectional RNN, because the value of y<t>\n",
    "# depends only on x<1>,…,x<t>, but not on x<t+1>,…,x<365>\n",
    "# Correct \n",
    "\n",
    "# Unidirectional RNN, because the value of y<t>  depends only on x<t>, and not other days’ weather."
   ]
  },
  {
   "cell_type": "code",
   "execution_count": null,
   "metadata": {
    "collapsed": true,
    "deletable": true,
    "editable": true
   },
   "outputs": [],
   "source": []
  }
 ],
 "metadata": {
  "kernelspec": {
   "display_name": "Python 3",
   "language": "python",
   "name": "python3"
  },
  "language_info": {
   "codemirror_mode": {
    "name": "ipython",
    "version": 3
   },
   "file_extension": ".py",
   "mimetype": "text/x-python",
   "name": "python",
   "nbconvert_exporter": "python",
   "pygments_lexer": "ipython3",
   "version": "3.6.2"
  }
 },
 "nbformat": 4,
 "nbformat_minor": 2
}
